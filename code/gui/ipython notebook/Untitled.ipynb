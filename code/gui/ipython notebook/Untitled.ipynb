{
 "cells": [
  {
   "cell_type": "code",
   "execution_count": 20,
   "metadata": {},
   "outputs": [],
   "source": [
    "%matplotlib notebook\n",
    "from matplotlib.backends.backend_qt5agg import FigureCanvas\n",
    "from matplotlib.figure import Figure\n",
    "from matplotlib.animation import FuncAnimation\n",
    "import matplotlib.pyplot as plt\n",
    "\n",
    "class PlotCanvas(FigureCanvas):\n",
    "    def __init__(self):\n",
    "             \n",
    "        self.fig = Figure()\n",
    "        self.canvas = FigureCanvas(self.fig)\n",
    "        self.axes = self.fig.add_subplot(111)\n",
    "        self.points = self.axes.plot([], [])[0]\n",
    "        self.points_array = [(0, 1), (1, 2)]\n",
    "\n",
    "    def _animate(self, x_start, y_start, i):\n",
    "        x_target, y_target = self.points_array[1]\n",
    "        diff_x = x_target - x_start\n",
    "        diff_y = y_target - y_start\n",
    "        print(diff_x, diff_y)\n",
    "        x_intermediate = diff_x / (i + 1)\n",
    "        y_intermediate = diff_y / (i + 1)\n",
    "        self.points.set_data(x_intermediate, y_intermediate)\n",
    "\n",
    "    def update(self):\n",
    "        x_start, y_start = self.points_array[0]\n",
    "        self.anim = FuncAnimation(self.fig, self._animate, fargs=(x_start, y_start), frames=100, interval=20)\n",
    "    \n",
    "    def show(self):\n",
    "        plt.show()\n",
    "\n",
    "if __name__ == \"__main__\":\n",
    "    canvas = PlotCanvas()\n",
    "    canvas.update()\n",
    "    canvas.show()"
   ]
  },
  {
   "cell_type": "code",
   "execution_count": null,
   "metadata": {},
   "outputs": [],
   "source": []
  },
  {
   "cell_type": "code",
   "execution_count": null,
   "metadata": {},
   "outputs": [],
   "source": []
  },
  {
   "cell_type": "code",
   "execution_count": null,
   "metadata": {},
   "outputs": [],
   "source": []
  },
  {
   "cell_type": "code",
   "execution_count": null,
   "metadata": {},
   "outputs": [],
   "source": []
  }
 ],
 "metadata": {
  "kernelspec": {
   "display_name": "Python 3",
   "language": "python",
   "name": "python3"
  },
  "language_info": {
   "codemirror_mode": {
    "name": "ipython",
    "version": 3
   },
   "file_extension": ".py",
   "mimetype": "text/x-python",
   "name": "python",
   "nbconvert_exporter": "python",
   "pygments_lexer": "ipython3",
   "version": "3.7.3"
  }
 },
 "nbformat": 4,
 "nbformat_minor": 2
}
